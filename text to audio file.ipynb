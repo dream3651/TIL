{
 "cells": [
  {
   "cell_type": "code",
   "execution_count": null,
   "id": "cd43083f",
   "metadata": {},
   "outputs": [],
   "source": [
    "# Google Text-to-Speech"
   ]
  },
  {
   "cell_type": "code",
   "execution_count": 4,
   "id": "bb24b77d",
   "metadata": {
    "ExecuteTime": {
     "end_time": "2023-11-06T14:36:42.385293Z",
     "start_time": "2023-11-06T14:36:30.687977Z"
    },
    "scrolled": true
   },
   "outputs": [
    {
     "name": "stdout",
     "output_type": "stream",
     "text": [
      "Collecting gTTS\n",
      "  Obtaining dependency information for gTTS from https://files.pythonhosted.org/packages/a7/ef/190f64a4edeb13165e3c598a08f06a2ae80cdae0aa208c96c20efdb7ad4b/gTTS-2.4.0-py3-none-any.whl.metadata\n",
      "  Downloading gTTS-2.4.0-py3-none-any.whl.metadata (4.1 kB)\n",
      "Requirement already satisfied: requests<3,>=2.27 in c:\\users\\user\\anaconda3\\lib\\site-packages (from gTTS) (2.31.0)\n",
      "Requirement already satisfied: click<8.2,>=7.1 in c:\\users\\user\\anaconda3\\lib\\site-packages (from gTTS) (8.0.4)\n",
      "Requirement already satisfied: colorama in c:\\users\\user\\anaconda3\\lib\\site-packages (from click<8.2,>=7.1->gTTS) (0.4.6)\n",
      "Requirement already satisfied: charset-normalizer<4,>=2 in c:\\users\\user\\anaconda3\\lib\\site-packages (from requests<3,>=2.27->gTTS) (2.0.4)\n",
      "Requirement already satisfied: idna<4,>=2.5 in c:\\users\\user\\anaconda3\\lib\\site-packages (from requests<3,>=2.27->gTTS) (3.4)\n",
      "Requirement already satisfied: urllib3<3,>=1.21.1 in c:\\users\\user\\anaconda3\\lib\\site-packages (from requests<3,>=2.27->gTTS) (1.26.16)\n",
      "Requirement already satisfied: certifi>=2017.4.17 in c:\\users\\user\\anaconda3\\lib\\site-packages (from requests<3,>=2.27->gTTS) (2023.7.22)\n",
      "Using cached gTTS-2.4.0-py3-none-any.whl (29 kB)\n",
      "Installing collected packages: gTTS\n",
      "Successfully installed gTTS-2.4.0\n",
      "Note: you may need to restart the kernel to use updated packages.\n"
     ]
    }
   ],
   "source": [
    "pip install gTTS"
   ]
  },
  {
   "cell_type": "code",
   "execution_count": 6,
   "id": "0648e2fd",
   "metadata": {
    "ExecuteTime": {
     "end_time": "2023-11-06T14:39:09.199067Z",
     "start_time": "2023-11-06T14:38:49.437969Z"
    }
   },
   "outputs": [
    {
     "name": "stdout",
     "output_type": "stream",
     "text": [
      "Collecting langdetect\n",
      "  Downloading langdetect-1.0.9.tar.gz (981 kB)\n",
      "     ---------------------------------------- 0.0/981.5 kB ? eta -:--:--\n",
      "     ---------------------------------------- 0.0/981.5 kB ? eta -:--:--\n",
      "     ---------------------------------------- 10.2/981.5 kB ? eta -:--:--\n",
      "     - ----------------------------------- 30.7/981.5 kB 325.1 kB/s eta 0:00:03\n",
      "     ---- ------------------------------- 122.9/981.5 kB 901.1 kB/s eta 0:00:01\n",
      "     ---------- --------------------------- 276.5/981.5 kB 1.5 MB/s eta 0:00:01\n",
      "     ----------------- -------------------- 440.3/981.5 kB 2.1 MB/s eta 0:00:01\n",
      "     ----------------------- -------------- 604.2/981.5 kB 2.2 MB/s eta 0:00:01\n",
      "     ---------------------------- --------- 727.0/981.5 kB 2.4 MB/s eta 0:00:01\n",
      "     -------------------------------- ----- 849.9/981.5 kB 2.4 MB/s eta 0:00:01\n",
      "     -------------------------------------- 981.5/981.5 kB 2.5 MB/s eta 0:00:00\n",
      "  Preparing metadata (setup.py): started\n",
      "  Preparing metadata (setup.py): finished with status 'done'\n",
      "Requirement already satisfied: six in c:\\users\\user\\anaconda3\\lib\\site-packages (from langdetect) (1.16.0)\n",
      "Building wheels for collected packages: langdetect\n",
      "  Building wheel for langdetect (setup.py): started\n",
      "  Building wheel for langdetect (setup.py): finished with status 'done'\n",
      "  Created wheel for langdetect: filename=langdetect-1.0.9-py3-none-any.whl size=993253 sha256=02b8692d67f9efe62ba64a0acfb415b34fcc8be2256e99e783c04da0777112cf\n",
      "  Stored in directory: c:\\users\\user\\appdata\\local\\pip\\cache\\wheels\\0a\\f2\\b2\\e5ca405801e05eb7c8ed5b3b4bcf1fcabcd6272c167640072e\n",
      "Successfully built langdetect\n",
      "Installing collected packages: langdetect\n",
      "Successfully installed langdetect-1.0.9\n",
      "Note: you may need to restart the kernel to use updated packages.\n"
     ]
    }
   ],
   "source": [
    "pip install langdetect"
   ]
  },
  {
   "cell_type": "code",
   "execution_count": 8,
   "id": "c18acb59",
   "metadata": {
    "ExecuteTime": {
     "end_time": "2023-11-06T14:40:56.141889Z",
     "start_time": "2023-11-06T14:40:45.260491Z"
    }
   },
   "outputs": [
    {
     "name": "stdout",
     "output_type": "stream",
     "text": [
      "Collecting pydub\n",
      "  Downloading pydub-0.25.1-py2.py3-none-any.whl (32 kB)\n",
      "Installing collected packages: pydub\n",
      "Successfully installed pydub-0.25.1\n",
      "Note: you may need to restart the kernel to use updated packages.\n"
     ]
    }
   ],
   "source": [
    "pip install pydub"
   ]
  },
  {
   "cell_type": "code",
   "execution_count": 12,
   "id": "97b9ed26",
   "metadata": {
    "ExecuteTime": {
     "end_time": "2023-11-06T14:50:46.193059Z",
     "start_time": "2023-11-06T14:50:25.381038Z"
    },
    "scrolled": false
   },
   "outputs": [
    {
     "name": "stdout",
     "output_type": "stream",
     "text": [
      "Collecting pygameNote: you may need to restart the kernel to use updated packages.\n",
      "\n",
      "  Obtaining dependency information for pygame from https://files.pythonhosted.org/packages/82/61/93ae7afbd931a70510cfdf0a7bb0007540020b8d80bc1d8762ebdc46479b/pygame-2.5.2-cp311-cp311-win_amd64.whl.metadata\n",
      "  Downloading pygame-2.5.2-cp311-cp311-win_amd64.whl.metadata (13 kB)\n",
      "Downloading pygame-2.5.2-cp311-cp311-win_amd64.whl (10.8 MB)\n",
      "   ---------------------------------------- 0.0/10.8 MB ? eta -:--:--\n",
      "   ---------------------------------------- 0.0/10.8 MB ? eta -:--:--\n",
      "   ---------------------------------------- 0.0/10.8 MB ? eta -:--:--\n",
      "   ---------------------------------------- 0.1/10.8 MB 1.8 MB/s eta 0:00:06\n",
      "    --------------------------------------- 0.2/10.8 MB 1.9 MB/s eta 0:00:06\n",
      "   - -------------------------------------- 0.4/10.8 MB 2.1 MB/s eta 0:00:05\n",
      "   - -------------------------------------- 0.5/10.8 MB 2.2 MB/s eta 0:00:05\n",
      "   -- ------------------------------------- 0.7/10.8 MB 2.3 MB/s eta 0:00:05\n",
      "   --- ------------------------------------ 0.8/10.8 MB 2.5 MB/s eta 0:00:04\n",
      "   --- ------------------------------------ 0.9/10.8 MB 2.4 MB/s eta 0:00:05\n",
      "   --- ------------------------------------ 1.0/10.8 MB 2.4 MB/s eta 0:00:05\n",
      "   ---- ----------------------------------- 1.1/10.8 MB 2.4 MB/s eta 0:00:04\n",
      "   ---- ----------------------------------- 1.3/10.8 MB 2.5 MB/s eta 0:00:04\n",
      "   ----- ---------------------------------- 1.5/10.8 MB 2.6 MB/s eta 0:00:04\n",
      "   ----- ---------------------------------- 1.6/10.8 MB 2.7 MB/s eta 0:00:04\n",
      "   ------ --------------------------------- 1.7/10.8 MB 2.7 MB/s eta 0:00:04\n",
      "   ------ --------------------------------- 1.9/10.8 MB 2.6 MB/s eta 0:00:04\n",
      "   ------ --------------------------------- 1.9/10.8 MB 2.6 MB/s eta 0:00:04\n",
      "   ------ --------------------------------- 1.9/10.8 MB 2.6 MB/s eta 0:00:04\n",
      "   ------ --------------------------------- 1.9/10.8 MB 2.6 MB/s eta 0:00:04\n",
      "   ------ --------------------------------- 1.9/10.8 MB 2.6 MB/s eta 0:00:04\n",
      "   ------ --------------------------------- 1.9/10.8 MB 2.6 MB/s eta 0:00:04\n",
      "   ------ --------------------------------- 1.9/10.8 MB 2.6 MB/s eta 0:00:04\n",
      "   ------ --------------------------------- 1.9/10.8 MB 2.6 MB/s eta 0:00:04\n",
      "   ------ --------------------------------- 1.9/10.8 MB 2.6 MB/s eta 0:00:04\n",
      "   ------ --------------------------------- 1.9/10.8 MB 2.6 MB/s eta 0:00:04\n",
      "   ------- -------------------------------- 1.9/10.8 MB 1.6 MB/s eta 0:00:06\n",
      "   ------- -------------------------------- 2.0/10.8 MB 1.6 MB/s eta 0:00:06\n",
      "   ------- -------------------------------- 2.0/10.8 MB 1.6 MB/s eta 0:00:06\n",
      "   ------- -------------------------------- 2.1/10.8 MB 1.6 MB/s eta 0:00:06\n",
      "   ------- -------------------------------- 2.1/10.8 MB 1.6 MB/s eta 0:00:06\n",
      "   ------- -------------------------------- 2.1/10.8 MB 1.6 MB/s eta 0:00:06\n",
      "   ------- -------------------------------- 2.1/10.8 MB 1.6 MB/s eta 0:00:06\n",
      "   ------- -------------------------------- 2.1/10.8 MB 1.6 MB/s eta 0:00:06\n",
      "   ------- -------------------------------- 2.1/10.8 MB 1.6 MB/s eta 0:00:06\n",
      "   ------- -------------------------------- 2.1/10.8 MB 1.6 MB/s eta 0:00:06\n",
      "   ------- -------------------------------- 2.1/10.8 MB 1.3 MB/s eta 0:00:07\n",
      "   ------- -------------------------------- 2.2/10.8 MB 1.3 MB/s eta 0:00:07\n",
      "   -------- ------------------------------- 2.2/10.8 MB 1.3 MB/s eta 0:00:07\n",
      "   -------- ------------------------------- 2.3/10.8 MB 1.3 MB/s eta 0:00:07\n",
      "   -------- ------------------------------- 2.3/10.8 MB 1.3 MB/s eta 0:00:07\n",
      "   -------- ------------------------------- 2.4/10.8 MB 1.3 MB/s eta 0:00:07\n",
      "   --------- ------------------------------ 2.4/10.8 MB 1.3 MB/s eta 0:00:07\n",
      "   --------- ------------------------------ 2.5/10.8 MB 1.3 MB/s eta 0:00:07\n",
      "   --------- ------------------------------ 2.7/10.8 MB 1.3 MB/s eta 0:00:07\n",
      "   --------- ------------------------------ 2.7/10.8 MB 1.3 MB/s eta 0:00:07\n",
      "   ---------- ----------------------------- 2.7/10.8 MB 1.3 MB/s eta 0:00:07\n",
      "   ---------- ----------------------------- 2.9/10.8 MB 1.3 MB/s eta 0:00:06\n",
      "   ---------- ----------------------------- 2.9/10.8 MB 1.3 MB/s eta 0:00:06\n",
      "   ----------- ---------------------------- 3.0/10.8 MB 1.3 MB/s eta 0:00:06\n",
      "   ----------- ---------------------------- 3.1/10.8 MB 1.4 MB/s eta 0:00:06\n",
      "   ------------ --------------------------- 3.3/10.8 MB 1.4 MB/s eta 0:00:06\n",
      "   ------------ --------------------------- 3.4/10.8 MB 1.4 MB/s eta 0:00:06\n",
      "   ------------ --------------------------- 3.5/10.8 MB 1.4 MB/s eta 0:00:06\n",
      "   ------------- -------------------------- 3.5/10.8 MB 1.4 MB/s eta 0:00:06\n",
      "   ------------- -------------------------- 3.6/10.8 MB 1.4 MB/s eta 0:00:06\n",
      "   ------------- -------------------------- 3.7/10.8 MB 1.4 MB/s eta 0:00:05\n",
      "   -------------- ------------------------- 3.8/10.8 MB 1.4 MB/s eta 0:00:05\n",
      "   -------------- ------------------------- 3.9/10.8 MB 1.4 MB/s eta 0:00:05\n",
      "   -------------- ------------------------- 4.0/10.8 MB 1.5 MB/s eta 0:00:05\n",
      "   --------------- ------------------------ 4.1/10.8 MB 1.5 MB/s eta 0:00:05\n",
      "   --------------- ------------------------ 4.3/10.8 MB 1.5 MB/s eta 0:00:05\n",
      "   ---------------- ----------------------- 4.4/10.8 MB 1.5 MB/s eta 0:00:05\n",
      "   ---------------- ----------------------- 4.5/10.8 MB 1.6 MB/s eta 0:00:05\n",
      "   ----------------- ---------------------- 4.7/10.8 MB 1.6 MB/s eta 0:00:04\n",
      "   ------------------ --------------------- 4.8/10.8 MB 1.6 MB/s eta 0:00:04\n",
      "   ------------------ --------------------- 5.0/10.8 MB 1.6 MB/s eta 0:00:04\n",
      "   ------------------- -------------------- 5.1/10.8 MB 1.6 MB/s eta 0:00:04\n",
      "   ------------------- -------------------- 5.2/10.8 MB 1.7 MB/s eta 0:00:04\n",
      "   -------------------- ------------------- 5.4/10.8 MB 1.7 MB/s eta 0:00:04\n",
      "   -------------------- ------------------- 5.6/10.8 MB 1.7 MB/s eta 0:00:04\n",
      "   --------------------- ------------------ 5.7/10.8 MB 1.7 MB/s eta 0:00:03\n",
      "   --------------------- ------------------ 5.9/10.8 MB 1.8 MB/s eta 0:00:03\n",
      "   ---------------------- ----------------- 6.0/10.8 MB 1.8 MB/s eta 0:00:03\n",
      "   ---------------------- ----------------- 6.1/10.8 MB 1.8 MB/s eta 0:00:03\n",
      "   ----------------------- ---------------- 6.3/10.8 MB 1.8 MB/s eta 0:00:03\n",
      "   ----------------------- ---------------- 6.3/10.8 MB 1.8 MB/s eta 0:00:03\n",
      "   ------------------------ --------------- 6.5/10.8 MB 1.8 MB/s eta 0:00:03\n",
      "   ------------------------ --------------- 6.6/10.8 MB 1.8 MB/s eta 0:00:03\n",
      "   ------------------------ --------------- 6.7/10.8 MB 1.8 MB/s eta 0:00:03\n",
      "   ------------------------- -------------- 6.9/10.8 MB 1.9 MB/s eta 0:00:03\n",
      "   ------------------------- -------------- 7.0/10.8 MB 1.8 MB/s eta 0:00:03\n",
      "   -------------------------- ------------- 7.1/10.8 MB 1.9 MB/s eta 0:00:02\n",
      "   -------------------------- ------------- 7.3/10.8 MB 1.9 MB/s eta 0:00:02\n",
      "   --------------------------- ------------ 7.4/10.8 MB 1.9 MB/s eta 0:00:02\n",
      "   ---------------------------- ----------- 7.5/10.8 MB 1.9 MB/s eta 0:00:02\n",
      "   ---------------------------- ----------- 7.7/10.8 MB 1.9 MB/s eta 0:00:02\n",
      "   ----------------------------- ---------- 7.9/10.8 MB 1.9 MB/s eta 0:00:02\n",
      "   ----------------------------- ---------- 8.0/10.8 MB 2.0 MB/s eta 0:00:02\n",
      "   ------------------------------ --------- 8.2/10.8 MB 2.0 MB/s eta 0:00:02\n",
      "   ------------------------------- -------- 8.4/10.8 MB 2.0 MB/s eta 0:00:02\n",
      "   ------------------------------- -------- 8.5/10.8 MB 2.0 MB/s eta 0:00:02\n",
      "   -------------------------------- ------- 8.7/10.8 MB 2.0 MB/s eta 0:00:01\n",
      "   --------------------------------- ------ 8.9/10.8 MB 2.1 MB/s eta 0:00:01\n",
      "   --------------------------------- ------ 9.0/10.8 MB 2.1 MB/s eta 0:00:01\n",
      "   --------------------------------- ------ 9.1/10.8 MB 2.1 MB/s eta 0:00:01\n",
      "   ---------------------------------- ----- 9.3/10.8 MB 2.1 MB/s eta 0:00:01\n",
      "   ----------------------------------- ---- 9.4/10.8 MB 2.1 MB/s eta 0:00:01\n",
      "   ----------------------------------- ---- 9.5/10.8 MB 2.1 MB/s eta 0:00:01\n",
      "   ----------------------------------- ---- 9.7/10.8 MB 2.1 MB/s eta 0:00:01\n",
      "   ------------------------------------ --- 9.8/10.8 MB 2.1 MB/s eta 0:00:01\n",
      "   ------------------------------------- -- 10.0/10.8 MB 2.1 MB/s eta 0:00:01\n",
      "   ------------------------------------- -- 10.1/10.8 MB 2.1 MB/s eta 0:00:01\n",
      "   -------------------------------------- - 10.3/10.8 MB 2.2 MB/s eta 0:00:01\n",
      "   ---------------------------------------  10.5/10.8 MB 2.2 MB/s eta 0:00:01\n",
      "   ---------------------------------------  10.7/10.8 MB 2.2 MB/s eta 0:00:01\n",
      "   ---------------------------------------  10.8/10.8 MB 2.2 MB/s eta 0:00:01\n",
      "   ---------------------------------------- 10.8/10.8 MB 2.2 MB/s eta 0:00:00\n",
      "Installing collected packages: pygame\n",
      "Successfully installed pygame-2.5.2\n"
     ]
    }
   ],
   "source": [
    "pip install pygame"
   ]
  },
  {
   "cell_type": "code",
   "execution_count": null,
   "id": "35069c3b",
   "metadata": {},
   "outputs": [],
   "source": [
    "# tkinter의 위젯 배치 방법\n",
    "# 하나의 프레임에서 동시에 사용할 수 없음\n",
    "# 다양한 배치방법을 사용하려면 Frame을 나눠줘야 함.\n",
    "\"\"\"\n",
    "1. Place(절대좌표)   모눈종이   button.place(x=1, y=1)\n",
    "2. Pack (상대위치) : Top, Left, Center, Right, Bottom \n",
    "                     상대적 위치이므로 먼저 작성된 코드가 있다면 먼저 적용됨\n",
    "                    button.pack(side='left')\n",
    "3. Grid (격자형 배치) : (1,1) (1,2) (1,3) (1,4)\n",
    "                        (2,1) (2,2) (2,3) (2,4)\n",
    "                        (3,1) (3,2) (3,3) (3,4)\n",
    "                        (4,1) (4,2) (4,3) (4,4)\n",
    "                        button.grid(row=1, column=1)\n",
    " \n",
    "https://camplee.tistory.com/32\n",
    "\"\"\""
   ]
  },
  {
   "cell_type": "code",
   "execution_count": 9,
   "id": "dc63e291",
   "metadata": {
    "ExecuteTime": {
     "end_time": "2023-11-06T15:10:20.711480Z",
     "start_time": "2023-11-06T15:09:52.417090Z"
    }
   },
   "outputs": [],
   "source": [
    "import tkinter as tk\n",
    "from tkinter import ttk\n",
    "from gtts import gTTS\n",
    "import os\n",
    "from langdetect import detect   # 언어를 감지하기 위한 라이브러리\n",
    "#from pydub import AudioSegment  # 오디오 처리와 재생을 위한 라이브러리\n",
    "#from pydub.playback import play  # pydub를 사용하여 음성을 바로 재생\n",
    "import pygame\n",
    "from datetime import datetime  # 현재시간을 얻기 위해 datetime 모듈 임포트\n",
    "\n",
    "app = tk.Tk()\n",
    "app.title(\"텍스트를 음성으로 변환\")\n",
    "app.geometry(\"500x100\")\n",
    "\n",
    "# pygame 초기화\n",
    "pygame.init()\n",
    "\n",
    "def convert_and_play():\n",
    "    text = text_entry.get()\n",
    "    \n",
    "    detected_lang = detect(text)\n",
    "    \n",
    "    if detected_lang == 'ko':\n",
    "        tts = gTTS(text, lang='ko')\n",
    "    else:\n",
    "        tts = gTTS(text, lang='en')\n",
    "\n",
    "# 현재 시간을 이용하여 파일 이름을 생성        \n",
    "    current_time=datetime.now().strftime(\"%Y-%m-%d-%H-%M-%S\")    \n",
    "    output_file = f'output_{current_time}.mp3'    \n",
    "    tts.save(os.path.expanduser(output_file))\n",
    "    \n",
    "# 저장된 음성 파일을 읽고 바로 재생\n",
    "#     sound = AudioSegment.from_mp3(\"output.mp3\")\n",
    "#     play(sound)\n",
    "\n",
    "    pygame.mixer.music.load(output_file)   # 음성파일 재생\n",
    "    pygame.mixer.music.play()\n",
    "\n",
    "label = ttk.Label(app, text=\"문장 입력\", width=13, relief='raised', anchor='center')\n",
    "label.pack(pady=10)\n",
    "\n",
    "text_entry = ttk.Entry(app, width=68)\n",
    "text_entry.pack()\n",
    "\n",
    "convert_button = ttk.Button(app, text=\"재생\", command=convert_and_play)\n",
    "convert_button.pack(pady=5)\n",
    "\n",
    "app.mainloop()\n"
   ]
  },
  {
   "cell_type": "code",
   "execution_count": null,
   "id": "0e141b1a",
   "metadata": {},
   "outputs": [],
   "source": []
  },
  {
   "cell_type": "code",
   "execution_count": null,
   "id": "d8597f60",
   "metadata": {},
   "outputs": [],
   "source": []
  }
 ],
 "metadata": {
  "kernelspec": {
   "display_name": "Python 3 (ipykernel)",
   "language": "python",
   "name": "python3"
  },
  "language_info": {
   "codemirror_mode": {
    "name": "ipython",
    "version": 3
   },
   "file_extension": ".py",
   "mimetype": "text/x-python",
   "name": "python",
   "nbconvert_exporter": "python",
   "pygments_lexer": "ipython3",
   "version": "3.11.5"
  },
  "toc": {
   "base_numbering": 1,
   "nav_menu": {},
   "number_sections": true,
   "sideBar": true,
   "skip_h1_title": false,
   "title_cell": "Table of Contents",
   "title_sidebar": "Contents",
   "toc_cell": false,
   "toc_position": {},
   "toc_section_display": true,
   "toc_window_display": false
  },
  "varInspector": {
   "cols": {
    "lenName": 16,
    "lenType": 16,
    "lenVar": 40
   },
   "kernels_config": {
    "python": {
     "delete_cmd_postfix": "",
     "delete_cmd_prefix": "del ",
     "library": "var_list.py",
     "varRefreshCmd": "print(var_dic_list())"
    },
    "r": {
     "delete_cmd_postfix": ") ",
     "delete_cmd_prefix": "rm(",
     "library": "var_list.r",
     "varRefreshCmd": "cat(var_dic_list()) "
    }
   },
   "types_to_exclude": [
    "module",
    "function",
    "builtin_function_or_method",
    "instance",
    "_Feature"
   ],
   "window_display": false
  }
 },
 "nbformat": 4,
 "nbformat_minor": 5
}
