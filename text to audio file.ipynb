{
 "cells": [
  {
   "cell_type": "code",
   "execution_count": 10,
   "id": "bb24b77d",
   "metadata": {
    "ExecuteTime": {
     "end_time": "2023-11-06T15:21:13.408615Z",
     "start_time": "2023-11-06T15:21:13.404014Z"
    },
    "scrolled": true
   },
   "outputs": [],
   "source": [
    "#pip install gTTS\n",
    "#pip install langdetect\n",
    "#pip install pydub\n",
    "#pip install pygame"
   ]
  },
  {
   "cell_type": "code",
   "execution_count": null,
   "id": "35069c3b",
   "metadata": {},
   "outputs": [],
   "source": [
    "# tkinter의 위젯 배치 방법\n",
    "# 하나의 프레임에서 동시에 사용할 수 없음\n",
    "# 다양한 배치방법을 사용하려면 Frame을 나눠줘야 함.\n",
    "\"\"\"\n",
    "1. Place(절대좌표)   모눈종이   button.place(x=1, y=1)\n",
    "2. Pack (상대위치) : Top, Left, Center, Right, Bottom \n",
    "                     상대적 위치이므로 먼저 작성된 코드가 있다면 먼저 적용됨\n",
    "                    button.pack(side='left')\n",
    "3. Grid (격자형 배치) : (1,1) (1,2) (1,3) (1,4)\n",
    "                        (2,1) (2,2) (2,3) (2,4)\n",
    "                        (3,1) (3,2) (3,3) (3,4)\n",
    "                        (4,1) (4,2) (4,3) (4,4)\n",
    "                        button.grid(row=1, column=1)\n",
    " \n",
    "https://camplee.tistory.com/32\n",
    "\"\"\""
   ]
  },
  {
   "cell_type": "code",
   "execution_count": 9,
   "id": "dc63e291",
   "metadata": {
    "ExecuteTime": {
     "end_time": "2023-11-06T15:10:20.711480Z",
     "start_time": "2023-11-06T15:09:52.417090Z"
    }
   },
   "outputs": [],
   "source": [
    "import tkinter as tk\n",
    "from tkinter import ttk\n",
    "from gtts import gTTS            # Google Text-to-Speech\n",
    "import os\n",
    "from langdetect import detect   # 언어를 감지하기 위한 라이브러리\n",
    "#from pydub import AudioSegment  # 오디오 처리와 재생을 위한 라이브러리\n",
    "#from pydub.playback import play  # pydub를 사용하여 음성을 바로 재생\n",
    "import pygame\n",
    "from datetime import datetime  # 현재시간을 얻기 위해 datetime 모듈 임포트\n",
    "\n",
    "app = tk.Tk()\n",
    "app.title(\"텍스트를 음성으로 변환\")\n",
    "app.geometry(\"500x100\")\n",
    "\n",
    "# pygame 초기화\n",
    "pygame.init()\n",
    "\n",
    "def convert_and_play():\n",
    "    text = text_entry.get()\n",
    "    \n",
    "    detected_lang = detect(text)\n",
    "    \n",
    "    if detected_lang == 'ko':\n",
    "        tts = gTTS(text, lang='ko')\n",
    "    else:\n",
    "        tts = gTTS(text, lang='en')\n",
    "\n",
    "# 현재 시간을 이용하여 파일 이름을 생성        \n",
    "    current_time=datetime.now().strftime(\"%Y-%m-%d-%H-%M-%S\")    \n",
    "    output_file = f'output_{current_time}.mp3'    \n",
    "    tts.save(os.path.expanduser(output_file))\n",
    "    \n",
    "# 저장된 음성 파일을 읽고 바로 재생\n",
    "#     sound = AudioSegment.from_mp3(\"output.mp3\")\n",
    "#     play(sound)\n",
    "\n",
    "    pygame.mixer.music.load(output_file)   # 음성파일 재생\n",
    "    pygame.mixer.music.play()\n",
    "\n",
    "label = ttk.Label(app, text=\"문장 입력\", width=13, relief='raised', anchor='center')\n",
    "label.pack(pady=10)\n",
    "\n",
    "text_entry = ttk.Entry(app, width=68)\n",
    "text_entry.pack()\n",
    "\n",
    "convert_button = ttk.Button(app, text=\"재생\", command=convert_and_play)\n",
    "convert_button.pack(pady=5)\n",
    "\n",
    "app.mainloop()\n"
   ]
  },
  {
   "cell_type": "code",
   "execution_count": null,
   "id": "0e141b1a",
   "metadata": {},
   "outputs": [],
   "source": []
  },
  {
   "cell_type": "code",
   "execution_count": null,
   "id": "d8597f60",
   "metadata": {},
   "outputs": [],
   "source": []
  }
 ],
 "metadata": {
  "kernelspec": {
   "display_name": "Python 3 (ipykernel)",
   "language": "python",
   "name": "python3"
  },
  "language_info": {
   "codemirror_mode": {
    "name": "ipython",
    "version": 3
   },
   "file_extension": ".py",
   "mimetype": "text/x-python",
   "name": "python",
   "nbconvert_exporter": "python",
   "pygments_lexer": "ipython3",
   "version": "3.11.5"
  },
  "toc": {
   "base_numbering": 1,
   "nav_menu": {},
   "number_sections": true,
   "sideBar": true,
   "skip_h1_title": false,
   "title_cell": "Table of Contents",
   "title_sidebar": "Contents",
   "toc_cell": false,
   "toc_position": {},
   "toc_section_display": true,
   "toc_window_display": false
  },
  "varInspector": {
   "cols": {
    "lenName": 16,
    "lenType": 16,
    "lenVar": 40
   },
   "kernels_config": {
    "python": {
     "delete_cmd_postfix": "",
     "delete_cmd_prefix": "del ",
     "library": "var_list.py",
     "varRefreshCmd": "print(var_dic_list())"
    },
    "r": {
     "delete_cmd_postfix": ") ",
     "delete_cmd_prefix": "rm(",
     "library": "var_list.r",
     "varRefreshCmd": "cat(var_dic_list()) "
    }
   },
   "types_to_exclude": [
    "module",
    "function",
    "builtin_function_or_method",
    "instance",
    "_Feature"
   ],
   "window_display": false
  }
 },
 "nbformat": 4,
 "nbformat_minor": 5
}
